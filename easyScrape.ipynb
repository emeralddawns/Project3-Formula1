{
 "cells": [
  {
   "cell_type": "markdown",
   "id": "9ced1c2d-cf79-4e26-8fa4-9740cd07bd25",
   "metadata": {},
   "source": [
    "Use this file to more easily find the best way to scrape info in scrape.py"
   ]
  },
  {
   "cell_type": "code",
   "execution_count": 1,
   "id": "d67ef6ea-378a-4b79-9ccc-ac0b6311e203",
   "metadata": {},
   "outputs": [],
   "source": [
    "# Dependencies\n",
    "import pandas as pd\n",
    "from bs4 import BeautifulSoup\n",
    "import requests\n",
    "from splinter import Browser\n",
    "from webdriver_manager.chrome import ChromeDriverManager\n",
    "import pymongo\n",
    "import lxml"
   ]
  },
  {
   "cell_type": "code",
   "execution_count": 2,
   "id": "63bcdf09-5e64-4517-a91e-1e56d47cd9b8",
   "metadata": {},
   "outputs": [
    {
     "name": "stderr",
     "output_type": "stream",
     "text": [
      "\n",
      "\n",
      "====== WebDriver manager ======\n",
      "Could not get version for google-chrome with the command:  powershell \"$ErrorActionPreference='silentlycontinue' ; (Get-Item -Path \"$env:PROGRAMFILES\\Google\\Chrome\\Application\\chrome.exe\").VersionInfo.FileVersion ; if (-not $? -or $? -match $error) { (Get-Item -Path \"$env:PROGRAMFILES(x86)\\Google\\Chrome\\Application\\chrome.exe\").VersionInfo.FileVersion } if (-not $? -or $? -match $error) { (Get-Item -Path \"$env:LOCALAPPDATA\\Google\\Chrome\\Application\\chrome.exe\").VersionInfo.FileVersion } if (-not $? -or $? -match $error) { reg query \"HKCU\\SOFTWARE\\Google\\Chrome\\BLBeacon\" /v version } if (-not $? -or $? -match $error) { reg query \"HKLM\\SOFTWARE\\Wow6432Node\\Microsoft\\Windows\\CurrentVersion\\Uninstall\\Google Chrome\" /v version }\"\n",
      "Current google-chrome version is UNKNOWN\n",
      "Get LATEST chromedriver version for UNKNOWN google-chrome\n",
      "Trying to download new driver from https://chromedriver.storage.googleapis.com/100.0.4896.60/chromedriver_win32.zip\n",
      "Driver has been saved in cache [C:\\Users\\emera\\.wdm\\drivers\\chromedriver\\win32\\100.0.4896.60]\n"
     ]
    }
   ],
   "source": [
    "# Set up splinter because \"view source\" doesn't always match \"inspect\"\n",
    "executable_path = {'executable_path': ChromeDriverManager().install()}\n",
    "browser = Browser('chrome', **executable_path, headless=False)"
   ]
  },
  {
   "cell_type": "code",
   "execution_count": 3,
   "id": "66475bdc-3794-4e3e-96da-e9672affb167",
   "metadata": {},
   "outputs": [],
   "source": [
    "# URL of page to be scraped\n",
    "url = \"https://formula1.com\"\n",
    "\n",
    "# Visit the browser\n",
    "browser.visit(url)"
   ]
  },
  {
   "cell_type": "code",
   "execution_count": 4,
   "id": "49c575f7-1585-4ff3-8400-52ba7bec64b6",
   "metadata": {},
   "outputs": [
    {
     "data": {
      "text/plain": [
       "[<p class=\"f1--title\">TREMAYNE: Ferrari are the team to beat right now – but F1’s 2022 storyline is still far from written</p>]"
      ]
     },
     "execution_count": 4,
     "metadata": {},
     "output_type": "execute_result"
    }
   ],
   "source": [
    "# Find the tag containing the desired information\n",
    "html = browser.html\n",
    "soup = BeautifulSoup(html, 'html.parser')\n",
    "\n",
    "results = soup.find_all('p', class_='f1--title')\n",
    "results"
   ]
  },
  {
   "cell_type": "code",
   "execution_count": 5,
   "id": "1923204f-39e0-4854-b769-889eb539c67f",
   "metadata": {},
   "outputs": [
    {
     "data": {
      "text/plain": [
       "'TREMAYNE: Ferrari are the team to beat right now – but F1’s 2022 storyline is still far from written'"
      ]
     },
     "execution_count": 5,
     "metadata": {},
     "output_type": "execute_result"
    }
   ],
   "source": [
    "news_p = results[0].text\n",
    "news_p"
   ]
  },
  {
   "cell_type": "code",
   "execution_count": 12,
   "id": "19291477-c97e-4fa1-b7f0-b7b024cf2b9c",
   "metadata": {},
   "outputs": [
    {
     "data": {
      "text/plain": [
       "'/en/latest/article.treymayne-ferrari-are-the-team-to-beat-right-now-but-f1s-2022-storyline-is.5TvOJfMODCDTs6MIUpOM6V.html'"
      ]
     },
     "execution_count": 12,
     "metadata": {},
     "output_type": "execute_result"
    }
   ],
   "source": [
    "news_link = soup.find_all('a', class_='f1-cc')[0][\"href\"]\n",
    "news_link"
   ]
  },
  {
   "cell_type": "code",
   "execution_count": 7,
   "id": "56902a6a-aeae-4e84-8e15-20b0a5382f8d",
   "metadata": {},
   "outputs": [],
   "source": [
    "browser.quit()"
   ]
  }
 ],
 "metadata": {
  "kernelspec": {
   "display_name": "Python 3",
   "language": "python",
   "name": "python3"
  },
  "language_info": {
   "codemirror_mode": {
    "name": "ipython",
    "version": 3
   },
   "file_extension": ".py",
   "mimetype": "text/x-python",
   "name": "python",
   "nbconvert_exporter": "python",
   "pygments_lexer": "ipython3",
   "version": "3.8.8"
  }
 },
 "nbformat": 4,
 "nbformat_minor": 5
}
